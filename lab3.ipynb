{
 "cells": [
  {
   "cell_type": "markdown",
   "id": "9d8687a5-1d4d-4558-a404-db0c25c991c0",
   "metadata": {},
   "source": [
    "# Лабораторна робота №3"
   ]
  },
  {
   "cell_type": "markdown",
   "id": "6e453593-05ca-4cc0-bf1d-b87eaff37565",
   "metadata": {},
   "source": [
    "# Тема: Аналіз складності алгоритмів. Алгоритми сортування"
   ]
  },
  {
   "cell_type": "markdown",
   "id": "aed733a9-b5e6-47a8-a9b3-1eebe4793f08",
   "metadata": {},
   "source": [
    "# Мета: освоїти аналіз складності алгоритмів як технологію на прикладі алгоритмів сортування методами включення та обміну."
   ]
  },
  {
   "cell_type": "markdown",
   "id": "a7e25691-06ec-4d20-a727-fd3eaeb9f309",
   "metadata": {},
   "source": [
    "##                             Хід роботи"
   ]
  },
  {
   "cell_type": "markdown",
   "id": "1edb07ae-1f76-4864-a1d6-c571e618d231",
   "metadata": {},
   "source": [
    "## 4 Реалізувати на Python алгоритм сортування методом бульбашки."
   ]
  },
  {
   "cell_type": "markdown",
   "id": "1691e544-86c6-455d-8ddc-aba66e2b11da",
   "metadata": {},
   "source": [
    "<img src=\"image\\lab3.1.png\" alt=\"описание\">\n"
   ]
  },
  {
   "cell_type": "markdown",
   "id": "16a80a4f-8bc9-421d-ad8c-d0ce52c0630a",
   "metadata": {},
   "source": [
    "## 5 Дослід часу виконання на мові Python"
   ]
  },
  {
   "cell_type": "markdown",
   "id": "d0a2172e-efc4-4024-a610-00b6f8fc4a67",
   "metadata": {},
   "source": [
    "<img src=\"image\\lab3.2.png\" alt=\"описание\">\n"
   ]
  },
  {
   "cell_type": "markdown",
   "id": "bf85db3d-0b51-439d-bde1-a4dced046610",
   "metadata": {},
   "source": [
    "## 7 Відповіді на контрольні запитання "
   ]
  },
  {
   "cell_type": "markdown",
   "id": "abd3ee29-1283-471d-aced-c33fb74d3ecd",
   "metadata": {},
   "source": [
    "### 1. О-нотація та Ω-нотація використовуються для оцінки асимптотичної складності алгоритмів. О-нотація показує верхню межу часової складності алгоритму, тоді як Ω-нотація вказує на нижню межу."
   ]
  },
  {
   "cell_type": "markdown",
   "id": "2ea1c5c4-506c-4504-a0ea-45b902e34a52",
   "metadata": {},
   "source": [
    "### 2 Часова складність алгоритму сортування методом вставки в найсприятливіших умовах, коли масив вже відсортований, - O(n), де n - кількість елементів у масиві, тому що коли масив вже відсортований, алгоритм сортування методом вставки потребує лише одного проходу по масиву. На кожному кроці алгоритм порівнює поточний елемент з його попередниками, і якщо він менший, він вставляється на відповідне місце. Оскільки в масиві вже встановлене відносне впорядкування, не потрібно виконувати обміни елементів."
   ]
  },
  {
   "cell_type": "markdown",
   "id": "f6f39594-9492-493c-befc-25aa7807b048",
   "metadata": {},
   "source": [
    "### 3 Ефективний алгоритм має оптимальну часову складність для відповідної задачі, виконується швидко і дає найкращий результат."
   ]
  },
  {
   "cell_type": "markdown",
   "id": "710d94fc-f2ee-4b0f-ac4e-e92f22009013",
   "metadata": {},
   "source": [
    "### 4 Це кількість елементів масиву що визначають розмір задачі, використовується для знаходження асимптотичної складності."
   ]
  },
  {
   "cell_type": "markdown",
   "id": "c9f88990-8d45-4a4d-8c20-74b5f4b71bc2",
   "metadata": {},
   "source": [
    "### 5 O(n^3)"
   ]
  }
 ],
 "metadata": {
  "kernelspec": {
   "display_name": "Python 3 (ipykernel)",
   "language": "python",
   "name": "python3"
  },
  "language_info": {
   "codemirror_mode": {
    "name": "ipython",
    "version": 3
   },
   "file_extension": ".py",
   "mimetype": "text/x-python",
   "name": "python",
   "nbconvert_exporter": "python",
   "pygments_lexer": "ipython3",
   "version": "3.12.3"
  }
 },
 "nbformat": 4,
 "nbformat_minor": 5
}
