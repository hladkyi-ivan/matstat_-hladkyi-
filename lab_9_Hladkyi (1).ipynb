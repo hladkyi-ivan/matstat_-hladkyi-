{
 "cells": [
  {
   "cell_type": "markdown",
   "id": "12226248-bbca-4173-98c4-669a65052f71",
   "metadata": {},
   "source": [
    "# Лабораторна робота № 9"
   ]
  },
  {
   "cell_type": "markdown",
   "id": "6d85023d-5c36-4e99-9f39-8770e708081a",
   "metadata": {},
   "source": [
    "## Тема. Алгоритми на рядках"
   ]
  },
  {
   "cell_type": "markdown",
   "id": "ee5ec24b-b6ac-4f23-9539-b0ce8049e95b",
   "metadata": {},
   "source": [
    "## Мета: освоїти низку основних алгоритмів на рядках засобами мовиPython."
   ]
  },
  {
   "cell_type": "markdown",
   "id": "00e8402a-4cf2-420c-95ce-2241a093eed2",
   "metadata": {},
   "source": [
    "### Виконав Гладкий Іван"
   ]
  },
  {
   "cell_type": "markdown",
   "id": "3d5f4585-5c34-4ce8-87cf-19cffcf7e896",
   "metadata": {},
   "source": [
    "# Хід роботи"
   ]
  },
  {
   "cell_type": "markdown",
   "id": "97ab1600-e39e-4501-a972-ddcf2407a884",
   "metadata": {},
   "source": [
    "## 1) Повторити код, наведений вище для довільних рядків."
   ]
  },
  {
   "cell_type": "markdown",
   "id": "c43a8128-76c8-41ca-87d6-57b99a0e70c8",
   "metadata": {},
   "source": [
    "<img src=\"image\\lab9.1.png\" alt=\"щось\">"
   ]
  },
  {
   "cell_type": "markdown",
   "id": "6a5bc45a-bfd9-48f5-9d96-509186e4db1f",
   "metadata": {},
   "source": [
    "<img src=\"image\\lab9.2.png\" alt=\"щось\">"
   ]
  },
  {
   "cell_type": "markdown",
   "id": "5cab0cc2-5290-4d88-91a4-c0c4feb34ded",
   "metadata": {},
   "source": [
    "## 2) Пояснити асимптотику наївного алгоритму пошуку підрядка."
   ]
  },
  {
   "cell_type": "markdown",
   "id": "d70e0a42-f5d9-47ae-a69d-8b0519a189b8",
   "metadata": {},
   "source": [
    "## Асимптотика наївного алгоритму пошуку підрядка: O(n * m), де n - довжина тексту, m - довжина шаблону."
   ]
  },
  {
   "cell_type": "markdown",
   "id": "684ac633-be54-4038-be25-2b6f606a792b",
   "metadata": {},
   "source": [
    "## 3) Обчислити асимптотичну складність алгоритму стиснення рядка за допомогою 𝑧-функції"
   ]
  },
  {
   "cell_type": "markdown",
   "id": "bd46a1f0-b4e2-4491-9b38-b94cfb6800bb",
   "metadata": {},
   "source": [
    "## Асимптотична складність алгоритму стиснення рядка за допомогою Z-функції: O(n), де n - довжина вхідного рядка."
   ]
  },
  {
   "cell_type": "markdown",
   "id": "0395d364-8996-45b6-af18-0ef5dd5d5940",
   "metadata": {},
   "source": [
    "# Контрольні питання "
   ]
  },
  {
   "cell_type": "markdown",
   "id": "b24dfb02-ff69-4306-af2d-ca9967043cfb",
   "metadata": {},
   "source": [
    "## 1) Префікс-функція - це масив, де кожен елемент вказує на довжину найбільшого збігу префіксу з суфіксом даного рядка. Відрізняється від Z-функції в тому, що префікс-функція враховує збіги тільки з префіксами, тоді як Z-функція враховує збіги з будь-якою підстрокою, включаючи суфікси."
   ]
  },
  {
   "cell_type": "markdown",
   "id": "a7a3ef8b-2247-4b42-9ce7-41b0fb7c17f1",
   "metadata": {},
   "source": [
    "## 2) Z-функція - це масив, де кожен елемент вказує на довжину найбільшого збігу префіксу підстроки з самою підстрокою починаючи з певної позиції. Використовується для пошуку всіх входжень одного рядка в інший."
   ]
  },
  {
   "cell_type": "markdown",
   "id": "13c7bf95-0cb4-4cfb-ad01-de11c4bf5b5c",
   "metadata": {},
   "source": [
    "## 3) Підходи до вирішення задачі «найдовший спільний підрядок» включають динамічне програмування, алгоритм Наївного пошуку та алгоритм КМП."
   ]
  },
  {
   "cell_type": "markdown",
   "id": "6c387212-1069-4236-8d35-8baee844f2f3",
   "metadata": {},
   "source": [
    "## 4) Алгоритми на рядках застосовуються в обробці природної мови або текстів для пошуку збігів, витягування ключових слів, аналізу синтаксису, виявлення емоційної тональності тощо."
   ]
  }
 ],
 "metadata": {
  "kernelspec": {
   "display_name": "Python 3 (ipykernel)",
   "language": "python",
   "name": "python3"
  },
  "language_info": {
   "codemirror_mode": {
    "name": "ipython",
    "version": 3
   },
   "file_extension": ".py",
   "mimetype": "text/x-python",
   "name": "python",
   "nbconvert_exporter": "python",
   "pygments_lexer": "ipython3",
   "version": "3.12.2"
  }
 },
 "nbformat": 4,
 "nbformat_minor": 5
}
