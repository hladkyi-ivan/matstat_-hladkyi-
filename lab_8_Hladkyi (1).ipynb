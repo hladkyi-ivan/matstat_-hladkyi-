{
 "cells": [
  {
   "cell_type": "markdown",
   "id": "6747e5c1-d117-4729-bf40-f4ee0bf16f79",
   "metadata": {},
   "source": [
    "# Лабораторна робота № 8"
   ]
  },
  {
   "cell_type": "markdown",
   "id": "be571f3d-c1e8-477c-9799-aaf8dc978186",
   "metadata": {},
   "source": [
    "## Тема. Структура даних граф. Алгоритми на графах"
   ]
  },
  {
   "cell_type": "markdown",
   "id": "fad44163-e966-4357-b921-2633b78598d1",
   "metadata": {},
   "source": [
    "## Мета: засвоїти представлення структури даних граф та основні алгоритми роботи з ними засобами Python."
   ]
  },
  {
   "cell_type": "markdown",
   "id": "d235d7d5-6fcb-42e4-b714-71eefe828e53",
   "metadata": {},
   "source": [
    "### Виконав Гладкий Іван"
   ]
  },
  {
   "cell_type": "markdown",
   "id": "2e4ec22d-746c-43c7-8ef7-251a6cfacdbd",
   "metadata": {},
   "source": [
    "# Хід роботи"
   ]
  },
  {
   "cell_type": "markdown",
   "id": "f92d5580-9965-47a4-8fb0-abaeb065181a",
   "metadata": {},
   "source": [
    "## 1) Для варіанту, заданого викладачем, задати і візуалізувати граф за допомогою коду, наведеного у цій роботі. Для свого варіанту реалізувати всі алгоритми, згідно з прикладами, наведеними вище.\n"
   ]
  },
  {
   "cell_type": "markdown",
   "id": "fbd84427-caf0-4577-8f88-d4c73390fefc",
   "metadata": {},
   "source": [
    "<img src=\"image\\lab8.1.png\" alt=\"щось\">"
   ]
  },
  {
   "cell_type": "markdown",
   "id": "e8127ef7-a57a-44ea-8c88-4124d310dcfa",
   "metadata": {},
   "source": [
    "<img src=\"image\\lab8.2.png\" alt=\"щось\">"
   ]
  },
  {
   "cell_type": "markdown",
   "id": "e38346af-6efe-42f2-a737-25af34fac7b6",
   "metadata": {},
   "source": [
    "<img src=\"image\\lab8.3.png\" alt=\"щось\">"
   ]
  },
  {
   "cell_type": "markdown",
   "id": "5e23d93a-174d-42a7-b175-c69ff53917b8",
   "metadata": {},
   "source": [
    "#  Контрольні питання"
   ]
  },
  {
   "cell_type": "markdown",
   "id": "1f2e79ae-d8a1-4ad8-bc03-6feb3fe03c79",
   "metadata": {},
   "source": [
    "## 1. Граф - це математична структура, що складається з вершин і ребер, що з'єднують ці вершини. Він використовується для моделювання зв'язків між об'єктами."
   ]
  },
  {
   "cell_type": "markdown",
   "id": "cdf41af4-fd9d-4b8e-b66f-6bdd18311000",
   "metadata": {},
   "source": [
    "## 2. Основні види графів: орієнтовані і неорієнтовані. Орієнтовані графи мають напрямлені ребра, а неорієнтовані - ненапрямлені."
   ]
  },
  {
   "cell_type": "markdown",
   "id": "7bd5e6e9-2fd9-44e3-9200-46b6ac524ec6",
   "metadata": {},
   "source": [
    "## 3. Граф можна представити у пам'яті комп'ютера за допомогою матриці суміжності або списку суміжності."
   ]
  },
  {
   "cell_type": "markdown",
   "id": "e0c677d2-ceca-422d-ad76-9abbc4236a00",
   "metadata": {},
   "source": [
    "## 4. Алгоритм пошуку в ширину (BFS) працює, відвідуючи всі вершини на одному рівні перед переходом до наступного рівня. Він використовується для знаходження найкоротшого шляху в невагованих графах."
   ]
  },
  {
   "cell_type": "markdown",
   "id": "fd9ed7cd-c034-454c-8981-5ce26589f0e4",
   "metadata": {},
   "source": [
    "## 5. Алгоритм пошуку в глибину (DFS) працює, рухаючись глибше в графі, досягаючи кінцевої вершини, перш ніж повернутися та обробити інші гілки. Він використовується для топологічного сортування, пошуку компонентів зв'язності та розв'язання задач на графах."
   ]
  },
  {
   "cell_type": "markdown",
   "id": "9fa18441-47a6-4eb8-98c0-2375cca6f4b7",
   "metadata": {},
   "source": [
    "## 6. Алгоритм Дейкстри - це алгоритм пошуку найкоротшого шляху в графі з невід'ємними вагами ребер. Він працює, знаходячи найкоротший шлях від початкової вершини до всіх інших вершин, оновлюючи відстані до сусідніх вершин з кожною ітерацією."
   ]
  },
  {
   "cell_type": "markdown",
   "id": "793c999d-a1c6-42e9-8470-0f1dfc11b3b3",
   "metadata": {},
   "source": []
  }
 ],
 "metadata": {
  "kernelspec": {
   "display_name": "Python 3 (ipykernel)",
   "language": "python",
   "name": "python3"
  },
  "language_info": {
   "codemirror_mode": {
    "name": "ipython",
    "version": 3
   },
   "file_extension": ".py",
   "mimetype": "text/x-python",
   "name": "python",
   "nbconvert_exporter": "python",
   "pygments_lexer": "ipython3",
   "version": "3.12.2"
  }
 },
 "nbformat": 4,
 "nbformat_minor": 5
}
