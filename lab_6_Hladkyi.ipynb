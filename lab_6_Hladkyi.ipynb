{
 "cells": [
  {
   "cell_type": "markdown",
   "id": "641dd02d-8425-4111-8a44-8c4b67398e96",
   "metadata": {},
   "source": [
    "# Лабораторна робота №6"
   ]
  },
  {
   "cell_type": "markdown",
   "id": "a0326bde-745e-4c6d-b1c7-5dabcd86b999",
   "metadata": {},
   "source": [
    "## Тема. Структури даних стек і черга."
   ]
  },
  {
   "cell_type": "markdown",
   "id": "8b8eac4f-e24c-4458-b0e7-cb6e25029602",
   "metadata": {},
   "source": [
    "## Мета:  засвоїти основні функції та алгоритми роботи зі стеком і чергою засобами Python."
   ]
  },
  {
   "cell_type": "markdown",
   "id": "26d9efc8-0c15-477c-b1ef-e33648c2478d",
   "metadata": {},
   "source": [
    "### Викoнав Гладкий Іван"
   ]
  },
  {
   "cell_type": "markdown",
   "id": "e2cff6a8-a954-41ac-8e36-9e93f0aa5035",
   "metadata": {},
   "source": [
    "# Хід роботи"
   ]
  },
  {
   "cell_type": "markdown",
   "id": "6edc537e-854d-40b8-8601-c0447ba04778",
   "metadata": {},
   "source": [
    "## 1) Написати функцію pop_n(), що видаляє елементи стека з його початку до номеру n включно"
   ]
  },
  {
   "cell_type": "markdown",
   "id": "b03d1ea1-435c-49c5-bf00-bc8aaf833138",
   "metadata": {},
   "source": [
    "<img src=\"image\\lab6.1.png\" alt=\"щось\">"
   ]
  },
  {
   "cell_type": "markdown",
   "id": "4049c391-f115-43e9-a6ee-2c4dc06568ed",
   "metadata": {},
   "source": [
    "## 2) Oцінити асимптотичну складність (у середньому і в найгіршому разі) процедур search, insert і delete роботи зі стеком."
   ]
  },
  {
   "cell_type": "markdown",
   "id": "81ab9153-63ea-40a5-8ee9-80e791813456",
   "metadata": {},
   "source": [
    "### Search: Середня складність: O(n). Найгірша складність: O(n).)"
   ]
  },
  {
   "cell_type": "markdown",
   "id": "8596b240-7ef7-4db4-b6da-77ad2f36b996",
   "metadata": {},
   "source": [
    "### Insert: Середня складність: O(1). Найгірша складність: O(1).)"
   ]
  },
  {
   "cell_type": "markdown",
   "id": "519408d0-973e-42f0-83ef-d20e046b7aa8",
   "metadata": {},
   "source": [
    "### Delete: Середня складність: O(1). Найгірша складність: O(1).)"
   ]
  },
  {
   "cell_type": "markdown",
   "id": "9406dfa1-5d1b-4d14-8eac-091d74348a5b",
   "metadata": {},
   "source": [
    "## 3) Написати функцію print_n(), що друкує елементи черги з його початку до номера n включно.;)"
   ]
  },
  {
   "cell_type": "markdown",
   "id": "d642629f-c6cb-44de-bb85-b767122d96ca",
   "metadata": {},
   "source": [
    "<img src=\"image\\lab6.1.png\" alt=\"щось\">"
   ]
  },
  {
   "cell_type": "markdown",
   "id": "5699ea60-5790-4381-81e9-1e63378a4f8d",
   "metadata": {},
   "source": [
    "## 4) Oцінити асимптотичну складність (у середньому і в найгіршому разі) процедур search, insert і delete роботи з чергою."
   ]
  },
  {
   "cell_type": "markdown",
   "id": "5bf04d83-aad1-42d1-8575-cda605341219",
   "metadata": {},
   "source": [
    "### Асимптотична складінсть така сама як і для роботи зі стеком."
   ]
  },
  {
   "cell_type": "markdown",
   "id": "05ae30e3-a81d-4e86-aebf-4755a1b05547",
   "metadata": {},
   "source": [
    "## Відповіді на запитання"
   ]
  },
  {
   "cell_type": "markdown",
   "id": "f8d023e9-9c21-492c-b03f-ebf7e45a5ac7",
   "metadata": {},
   "source": [
    "### 1) Операції зі стеком - push, pop, peek, is_empty, size. Стек - абстрактна структура даних. Всі операції в стеку можна проводити тільки з одним елементом, який міститься на верхівці стека та був уведений в стек останнім."
   ]
  },
  {
   "cell_type": "markdown",
   "id": "dcf68987-eda7-4eea-8b0f-216039f2e19c",
   "metadata": {},
   "source": [
    "### 2) Основна відмінність між стеком і чергою полягає в порядку, в якому елементи додаються та видаляються:\n",
    "### Стек - останній елемент, який був доданий, буде першим, що вийде.\n",
    "### Черга - перший елемент, який був доданий, буде першим, що вийде.е."
   ]
  },
  {
   "cell_type": "markdown",
   "id": "8ab4ccce-dbe9-4800-a3ac-8443b98a202a",
   "metadata": {},
   "source": [
    "### 3)Масив - проста реалізація, швидкий доступ до елементів, обмежена місткість. Зв’язний список - немає обмеження розміру, ефективне використання пам'яті розміру, чутливість до перевантаження, доступ до елементів за індексом вимагає ітерації від початку.очатку списку."
   ]
  },
  {
   "cell_type": "markdown",
   "id": "1785b549-2d40-40ee-885a-11582294cd8d",
   "metadata": {},
   "source": [
    "### 4) Стек можна використовувати в  управлінні викликами функцій, обробці виразів, пошук в глибину в графах, складання книг одна на одну. Чергу можна використовувати в обробці подій, управлінні ресурсами, алгоритм \"пошук в ширину\" в графах, очікування своєї черги будь де..х"
   ]
  },
  {
   "cell_type": "code",
   "execution_count": null,
   "id": "cfd431d2-914e-42d1-8e6e-aef9eba33a85",
   "metadata": {},
   "outputs": [],
   "source": []
  }
 ],
 "metadata": {
  "kernelspec": {
   "display_name": "Python 3 (ipykernel)",
   "language": "python",
   "name": "python3"
  },
  "language_info": {
   "codemirror_mode": {
    "name": "ipython",
    "version": 3
   },
   "file_extension": ".py",
   "mimetype": "text/x-python",
   "name": "python",
   "nbconvert_exporter": "python",
   "pygments_lexer": "ipython3",
   "version": "3.12.3"
  }
 },
 "nbformat": 4,
 "nbformat_minor": 5
}
