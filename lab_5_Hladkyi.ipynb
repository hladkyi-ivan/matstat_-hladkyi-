{
 "cells": [
  {
   "cell_type": "markdown",
   "id": "fb59f7b5-2495-4d70-a5f7-d5c625922ca7",
   "metadata": {},
   "source": [
    "# Лабораторна робота №5"
   ]
  },
  {
   "cell_type": "markdown",
   "id": "5ea143e6-c775-4dd3-8946-a5ded0349d96",
   "metadata": {},
   "source": [
    "## Тема. Алгоритми пошуку."
   ]
  },
  {
   "cell_type": "markdown",
   "id": "5edf6c8d-8f9c-4433-bdc8-a56838d3665f",
   "metadata": {},
   "source": [
    "## Мета: засвоїти варіанти реалізації алгоритмів пошуку засобами Python і методи оцінювання їх складності."
   ]
  },
  {
   "cell_type": "markdown",
   "id": "26ee8ec6-bd16-4504-95c6-13ad03d40b94",
   "metadata": {},
   "source": [
    "### Викoнав Гладкий Іван"
   ]
  },
  {
   "cell_type": "markdown",
   "id": "2dbab3ec-f37a-4122-92c1-dcb70290eeae",
   "metadata": {},
   "source": [
    "# Хід роботи."
   ]
  },
  {
   "cell_type": "markdown",
   "id": "596f3792-d8e4-4dad-94cb-098df6fccf91",
   "metadata": {},
   "source": [
    "## 1) Оцінити асимптотичну складність алгоритму бінарного пошуку в О-нотації."
   ]
  },
  {
   "cell_type": "markdown",
   "id": "7a23287a-15fc-42da-8177-db9d36d936e2",
   "metadata": {},
   "source": [
    "### Асимптотична складність бінарного пошуку - O(log n), де n - кількість елементів у відсортованому масиві."
   ]
  },
  {
   "cell_type": "markdown",
   "id": "0da79bf7-6d9b-48d5-aee0-8d5b855f19c0",
   "metadata": {},
   "source": [
    "## 2) Написати функцію, яка б могла повертати датафрейм з таким складом полів: («n», «time»), де n – розмір масиву для функції linear_searh()."
   ]
  },
  {
   "cell_type": "markdown",
   "id": "b46cf03b-21d0-4ef7-8d83-5e6026404acc",
   "metadata": {},
   "source": [
    "<img src=\"image\\lab5.1.png\" alt=\"щось\">"
   ]
  },
  {
   "cell_type": "markdown",
   "id": "05139d71-9a73-45cf-9004-32d0cda7e8c3",
   "metadata": {},
   "source": [
    "## 3) 3аписати функцію, яка б могла повертати датафрейм з таким складом полів: («n», «time»), де n – розмір масиву для функції bin_searh()."
   ]
  },
  {
   "cell_type": "markdown",
   "id": "574685c0-fff5-4fa1-8842-4f391c324a1e",
   "metadata": {},
   "source": [
    "<img src=\"image\\lab5.2.png\" alt=\"щось\">"
   ]
  },
  {
   "cell_type": "markdown",
   "id": "3d5d5b47-10f8-48c6-bde3-ca2ec83d2112",
   "metadata": {},
   "source": [
    "## 4) За результатами попередніх завдань побудувати графіки залежності часу виконання процедури пошуку від розміру масиву.."
   ]
  },
  {
   "cell_type": "markdown",
   "id": "95c98ac5-72d5-4c72-88e5-6ff8f2dfcb09",
   "metadata": {},
   "source": [
    "<img src=\"image\\lab5.3.png\" alt=\"щось\">"
   ]
  },
  {
   "cell_type": "markdown",
   "id": "9e6ee7ad-76b1-42d7-a304-e12e00764ebb",
   "metadata": {},
   "source": [
    "## <font color='red'>binary search</font>\n",
    "\n",
    "## <font color='black'>linear search</font>\n"
   ]
  },
  {
   "cell_type": "markdown",
   "id": "8d88f78f-e874-4de5-84bd-7c1c510a4184",
   "metadata": {},
   "source": [
    "## 5) Оцінити, який з двох алгоритмів є ефективнішим і в якому діапазоні розміру задачі."
   ]
  },
  {
   "cell_type": "markdown",
   "id": "f3f9267b-9160-4c09-add3-0ffa92cd4e02",
   "metadata": {},
   "source": [
    "### Очевидно, що бінарний пошук набагато єфективніший, але лише починаючи з великих чисел. "
   ]
  },
  {
   "cell_type": "markdown",
   "id": "ba8ef889-e916-4284-910e-2d744e1efad1",
   "metadata": {},
   "source": [
    "## Відповіді на запитання"
   ]
  },
  {
   "cell_type": "markdown",
   "id": "e09bd39c-f80d-4822-9bca-3c855aed7c59",
   "metadata": {},
   "source": [
    "### 1) Знайти  книгу за її заголовком у бібліотеці. Книги розташовані впорядковано за алфавітом заголовку книги. Необхідно розробити алгоритм, який швидко знайде книгу за її заголовком. "
   ]
  },
  {
   "cell_type": "markdown",
   "id": "a65eeed9-e664-4bc6-9cbe-e6e029040d5f",
   "metadata": {},
   "source": [
    "### 2) Час виконання, асимптотична складність"
   ]
  },
  {
   "cell_type": "markdown",
   "id": "ec6d1991-7a03-4371-8bbc-1f9df26ee744",
   "metadata": {},
   "source": [
    "### 3) Проходить по черзі, шукаючи потрібний об'єкт, асимптотична складність O(n)\r\n"
   ]
  },
  {
   "cell_type": "markdown",
   "id": "f57bfef9-a88b-47cf-b73a-78a4ab34f851",
   "metadata": {},
   "source": [
    "### 4) Зменшує обсяг удвічі щоб знайти потрібний об'єкт, асимптотична складність O(log(n))"
   ]
  },
  {
   "cell_type": "markdown",
   "id": "2aa6df21-29d7-48dd-a1d0-e8362e75ab7f",
   "metadata": {},
   "source": [
    "### 5)Плюси - час виконання, менша асимптотична складність. Мінуси - вимагає сортування "
   ]
  },
  {
   "cell_type": "markdown",
   "id": "8ccca642-aec5-44d1-a218-560537e15dd5",
   "metadata": {},
   "source": [
    "### 6) Пошуки графів"
   ]
  }
 ],
 "metadata": {
  "kernelspec": {
   "display_name": "Python 3 (ipykernel)",
   "language": "python",
   "name": "python3"
  },
  "language_info": {
   "codemirror_mode": {
    "name": "ipython",
    "version": 3
   },
   "file_extension": ".py",
   "mimetype": "text/x-python",
   "name": "python",
   "nbconvert_exporter": "python",
   "pygments_lexer": "ipython3",
   "version": "3.12.3"
  }
 },
 "nbformat": 4,
 "nbformat_minor": 5
}
