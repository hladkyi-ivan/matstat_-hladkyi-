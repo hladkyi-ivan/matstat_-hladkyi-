{
 "cells": [
  {
   "cell_type": "markdown",
   "id": "bc39e56d-5d25-4323-be65-8609b360879e",
   "metadata": {},
   "source": [
    "# Лабораторна робота №4. Рекурсія. Стратегія \"розділяй і володарюй."
   ]
  },
  {
   "cell_type": "markdown",
   "id": "43b01b8a-b108-449d-bd3b-1a14904c671e",
   "metadata": {},
   "source": [
    "## Тема. Рекурсія. Стратегія «розділяй і володарюй»."
   ]
  },
  {
   "cell_type": "markdown",
   "id": "c8cbbaf3-586b-435a-aa03-641d4feaf133",
   "metadata": {},
   "source": [
    "## Мета: засвоїти технологію реалізації рекурсивних алгоритмів засобами Python і оцінювання їх складності з використанням основної теореми рекурсії."
   ]
  },
  {
   "cell_type": "markdown",
   "id": "b021f53a-5d84-47b6-b0a5-55d80f3760bc",
   "metadata": {},
   "source": [
    "### Викoнав Гладкий Іван"
   ]
  },
  {
   "cell_type": "markdown",
   "id": "8e0d294e-2321-48bd-ad66-c687ab95e302",
   "metadata": {},
   "source": [
    "# Хід роботи\n",
    "## 1) Реалізувати процедуру обчислення факторіалу за допомогою цикла for. Оцінити асимптотичну складність алгоритму"
   ]
  },
  {
   "cell_type": "markdown",
   "id": "335a9474-7f53-4963-9db3-719b15450706",
   "metadata": {},
   "source": [
    "<img src=\"image\\lab4.1.png\" alt=\"щось\">"
   ]
  },
  {
   "cell_type": "markdown",
   "id": "2ad68183-dd72-4e67-8169-5e33e16a0a38",
   "metadata": {},
   "source": [
    "###  Асимптотична складність цього алгоритму - O(n), де n - це число, для якого обчислюється факторіал, час виконання зростає пропорційно числу n."
   ]
  },
  {
   "cell_type": "markdown",
   "id": "afede074-f90a-47b1-bf9b-26a62255a85e",
   "metadata": {},
   "source": [
    "## 2) Оцінити асимптотичну складність рекурсивного алгоритму обчислення факторіалу"
   ]
  },
  {
   "cell_type": "markdown",
   "id": "b834c1d3-dc7b-4a3b-bd5e-e96fcb44c5fb",
   "metadata": {},
   "source": [
    "<img src=\"image\\lab4.2.png\" alt=\"щось\">\n"
   ]
  },
  {
   "cell_type": "markdown",
   "id": "8b047862-416e-4af9-9628-509c73479307",
   "metadata": {},
   "source": [
    "### T(n) = T(n-1) + O(1), таким чином, сумарний час обчислення факторіалу n дорівнює O(n).)."
   ]
  },
  {
   "cell_type": "markdown",
   "id": "27adb896-eb1a-4ea7-8d19-5721ab48dc73",
   "metadata": {},
   "source": [
    "## 3) Оцінити асимптотичну складність рекурсивного алгоритму обчислення n-го числа Фібоначчі\n"
   ]
  },
  {
   "cell_type": "markdown",
   "id": "0ec389ec-6447-4b47-a5fc-aabc574b67e2",
   "metadata": {},
   "source": [
    "<img src=\"image\\lab4.3.png\" alt=\"щось\">"
   ]
  },
  {
   "cell_type": "markdown",
   "id": "dfe6c455-794f-406c-a49b-f7180f2c2765",
   "metadata": {},
   "source": [
    "### Для n у діапазоні від 0 до 2 включно асимптотична складність - O(1), n>2 - O(2^n)."
   ]
  },
  {
   "cell_type": "markdown",
   "id": "348acfaf-d6fe-4c0b-b5a8-302659dd8c94",
   "metadata": {},
   "source": [
    "## 4) Оцінити асимптотичну складність алгоритму сортуванням злиттям, використовуючи основну теорему рекурсії"
   ]
  },
  {
   "cell_type": "markdown",
   "id": "c7225d45-b819-411e-9a82-0338e443e9d1",
   "metadata": {},
   "source": [
    "<img src=\"image\\lab4.4.png\" alt=\"щось\">"
   ]
  },
  {
   "cell_type": "markdown",
   "id": "e79f3a04-2891-4138-8585-c0a65f8232dd",
   "metadata": {},
   "source": [
    "### При кожному рекурсивному виклику час роботи O(nlogn), оскільки масив ділиться навпіл."
   ]
  },
  {
   "cell_type": "markdown",
   "id": "5f0ab817-6dc7-4eeb-acac-53f0f3a82888",
   "metadata": {},
   "source": [
    "## Відповіді на запитання"
   ]
  },
  {
   "cell_type": "markdown",
   "id": "6008f532-ee9d-478a-99be-03e9453ca9af",
   "metadata": {},
   "source": [
    "### 1) Ω-нотація використовується для нижньої межі складності алгоритму."
   ]
  },
  {
   "cell_type": "markdown",
   "id": "0f275a63-af4d-406f-b0b5-5d18400fc715",
   "metadata": {},
   "source": [
    "### 2) O(N^3), якщо вважати що числа є степенями в виразі(там не зрозуміло). "
   ]
  },
  {
   "cell_type": "markdown",
   "id": "27985832-41d1-45b9-8272-b4ad32b05136",
   "metadata": {},
   "source": [
    "### 3) O(N^10)."
   ]
  },
  {
   "cell_type": "markdown",
   "id": "3b866171-d008-475f-a319-7e1c381c4c13",
   "metadata": {},
   "source": [
    "### 4) O(N^1.3)."
   ]
  },
  {
   "cell_type": "markdown",
   "id": "4b1d6203-31f0-46e4-b4f4-5c726f5c7180",
   "metadata": {
    "jp-MarkdownHeadingCollapsed": true
   },
   "source": [
    "### 5) Розбити завдання на декілька частин, які можна виконувати паралельно. Алгоритми з лабораторної -  сортування злиттям (Merge Sort) та обчислення чисел Фібоначчі рекурсивним методом.ом. )"
   ]
  },
  {
   "cell_type": "markdown",
   "id": "bf1e0917-d7e4-4e68-99d5-b855293be0ca",
   "metadata": {},
   "source": [
    "### 6) Створення рекурсії(найбільш еффективний), заміна алгоритму на більш ефективний та відлагодження коду від зайвих частин та помилок"
   ]
  }
 ],
 "metadata": {
  "kernelspec": {
   "display_name": "Python 3 (ipykernel)",
   "language": "python",
   "name": "python3"
  },
  "language_info": {
   "codemirror_mode": {
    "name": "ipython",
    "version": 3
   },
   "file_extension": ".py",
   "mimetype": "text/x-python",
   "name": "python",
   "nbconvert_exporter": "python",
   "pygments_lexer": "ipython3",
   "version": "3.12.3"
  }
 },
 "nbformat": 4,
 "nbformat_minor": 5
}
